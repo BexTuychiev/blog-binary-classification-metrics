{
 "cells": [
  {
   "cell_type": "code",
   "execution_count": null,
   "metadata": {},
   "outputs": [],
   "source": [
    "import pandas as pd\n",
    "\n",
    "TRANSACTION_COLUMNS = ['isFraud',\n",
    " 'TransactionAmt', 'ProductCD',\n",
    " 'card1','card2','card3','card4','card5','card6',\n",
    " 'addr1','addr2',\n",
    " 'dist1','dist2',\n",
    " 'P_emaildomain','R_emaildomain',\n",
    " 'C1','C2','C3','C4','C5','C6','C7','C8','C9','C10','C11','C12','C13','C14',\n",
    " 'D1','D2','D3','D4','D5','D6','D7','D8','D9','D10','D11','D12','D13','D14','D15'\n",
    "                      ]\n",
    "\n",
    "CATEGORICAL_TRANSCATION = [\n",
    "    'ProductCD',\n",
    "    'card1', 'card2', 'card3', 'card4', 'card5', 'card6',\n",
    "    'addr1', 'addr2',\n",
    "    'P_emaildomain','R_emaildomain']"
   ]
  },
  {
   "cell_type": "code",
   "execution_count": null,
   "metadata": {},
   "outputs": [],
   "source": [
    "transaction = pd.read_csv('data/train_transaction.csv',usecols=TRANSACTION_COLUMNS, nrows=200000)"
   ]
  },
  {
   "cell_type": "code",
   "execution_count": null,
   "metadata": {},
   "outputs": [],
   "source": [
    "transaction.head()"
   ]
  },
  {
   "cell_type": "code",
   "execution_count": null,
   "metadata": {},
   "outputs": [],
   "source": [
    "transaction_pos = transaction[transaction['isFraud']==1]\n",
    "transaction_neg = transaction[transaction['isFraud']==0].sample(60000)\n",
    "\n",
    "transaction_pos.shape, transaction_neg.shape"
   ]
  },
  {
   "cell_type": "code",
   "execution_count": null,
   "metadata": {},
   "outputs": [],
   "source": [
    "transaction = pd.concat([transaction_pos, transaction_neg], axis=0)"
   ]
  },
  {
   "cell_type": "code",
   "execution_count": null,
   "metadata": {},
   "outputs": [],
   "source": [
    "from category_encoders import OrdinalEncoder, OneHotEncoder\n",
    "\n",
    "ordinal_encoder = OrdinalEncoder(cols=CATEGORICAL_TRANSCATION, handle_missing='return_nan')\n",
    "\n",
    "transaction = ordinal_encoder.fit_transform(transaction)\n",
    "transaction.head()"
   ]
  },
  {
   "cell_type": "code",
   "execution_count": null,
   "metadata": {},
   "outputs": [],
   "source": [
    "from sklearn.model_selection import train_test_split\n",
    "\n",
    "transaction_train, transaction_test = train_test_split(transaction, stratify=transaction['isFraud'], test_size=0.2, random_state=1234)"
   ]
  },
  {
   "cell_type": "code",
   "execution_count": null,
   "metadata": {},
   "outputs": [],
   "source": [
    "transaction_train.shape, transaction_test.shape"
   ]
  },
  {
   "cell_type": "code",
   "execution_count": null,
   "metadata": {},
   "outputs": [],
   "source": [
    "transaction_train.to_csv('data/train.csv',index=None)\n",
    "transaction_test.to_csv('data/test.csv',index=None)"
   ]
  },
  {
   "cell_type": "code",
   "execution_count": null,
   "metadata": {},
   "outputs": [],
   "source": [
    "table = transaction_train[['TransactionID','isFraud']].head()"
   ]
  },
  {
   "cell_type": "code",
   "execution_count": null,
   "metadata": {},
   "outputs": [],
   "source": [
    "ax = table.plot()\n",
    "fig = ax.get_figure()\n",
    "fig.savefig('asdf.png')"
   ]
  },
  {
   "cell_type": "code",
   "execution_count": null,
   "metadata": {},
   "outputs": [],
   "source": [
    "table.to_json()"
   ]
  },
  {
   "cell_type": "code",
   "execution_count": null,
   "metadata": {},
   "outputs": [],
   "source": []
  }
 ],
 "metadata": {
  "kernelspec": {
   "display_name": "py_36",
   "language": "python",
   "name": "py_36"
  },
  "language_info": {
   "codemirror_mode": {
    "name": "ipython",
    "version": 3
   },
   "file_extension": ".py",
   "mimetype": "text/x-python",
   "name": "python",
   "nbconvert_exporter": "python",
   "pygments_lexer": "ipython3",
   "version": "3.6.8"
  },
  "neptune": {
   "notebookId": "2122e95e-7b20-461a-89f4-a0375aede0f8"
  }
 },
 "nbformat": 4,
 "nbformat_minor": 2
}
