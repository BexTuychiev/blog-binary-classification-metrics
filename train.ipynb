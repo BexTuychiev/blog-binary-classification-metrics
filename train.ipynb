{
 "cells": [
  {
   "cell_type": "code",
   "execution_count": 5,
   "metadata": {},
   "outputs": [
    {
     "data": {
      "text/plain": [
       "True"
      ]
     },
     "execution_count": 5,
     "metadata": {},
     "output_type": "execute_result"
    }
   ],
   "source": [
    "import os\n",
    "import neptune\n",
    "import pandas as pd\n",
    "import xgboost as xgb\n",
    "import matplotlib.pyplot as plt\n",
    "\n",
    "from dotenv import load_dotenv\n",
    "from neptune.integrations.xgboost import NeptuneCallback\n",
    "\n",
    "# Load the environment variables\n",
    "load_dotenv()"
   ]
  },
  {
   "cell_type": "code",
   "execution_count": 2,
   "metadata": {},
   "outputs": [],
   "source": [
    "# Download and read the data\n",
    "TRAIN_PATH = \"https://raw.githubusercontent.com/neptune-ai/blog-binary-classification-metrics/master/data/train.csv\"\n",
    "TEST_PATH = \"https://raw.githubusercontent.com/neptune-ai/blog-binary-classification-metrics/master/data/test.csv\"\n",
    "\n",
    "\n",
    "train = pd.read_csv(TRAIN_PATH)\n",
    "test = pd.read_csv(TEST_PATH)"
   ]
  },
  {
   "cell_type": "code",
   "execution_count": 3,
   "metadata": {},
   "outputs": [],
   "source": [
    "# Prepare the data for training\n",
    "feature_names = [col for col in train.columns if col not in [\"isFraud\"]]\n",
    "\n",
    "X_train, y_train = train[feature_names], train[\"isFraud\"]\n",
    "X_test, y_test = test[feature_names], test[\"isFraud\"]\n"
   ]
  },
  {
   "cell_type": "code",
   "execution_count": 12,
   "metadata": {},
   "outputs": [
    {
     "name": "stdout",
     "output_type": "stream",
     "text": [
      "[neptune] [info   ] Neptune initialized. Open in the app: https://app.neptune.ai/community/evaluation-metrics-comparison/e/EV-2\n"
     ]
    }
   ],
   "source": [
    "# Start experiment before training\n",
    "project_name = os.getenv(\"NEPTUNE_PROJECT_NAME\")\n",
    "api_token = os.getenv(\"NEPTUNE_API_TOKEN\")\n",
    "\n",
    "run = neptune.init_run(project=project_name, api_token=api_token)\n",
    "\n",
    "# Train model\n",
    "MODEL_PARAMS = {\"random_state\": 1234, \"learning_rate\": 0.1, \"n_estimators\": 1500}\n",
    "\n",
    "model = xgb.XGBClassifier(**MODEL_PARAMS)\n",
    "model.fit(X_train, y_train)\n",
    "\n",
    "# Evaluate model\n",
    "y_test_probs = model.predict_proba(X_test)\n",
    "y_test_preds = model.predict(X_test)"
   ]
  },
  {
   "cell_type": "code",
   "execution_count": 13,
   "metadata": {},
   "outputs": [],
   "source": [
    "from sklearn.metrics import (\n",
    "    accuracy_score,\n",
    "    roc_auc_score,\n",
    "    precision_score,\n",
    "    recall_score,\n",
    "    f1_score,\n",
    "    average_precision_score,\n",
    ")"
   ]
  },
  {
   "cell_type": "code",
   "execution_count": 14,
   "metadata": {},
   "outputs": [],
   "source": [
    "# Calculate metrics\n",
    "accuracy = accuracy_score(y_test, y_test_preds)\n",
    "roc_auc = roc_auc_score(y_test, y_test_probs[:, 1])  # Assuming binary classification\n",
    "precision = precision_score(y_test, y_test_preds, average=\"weighted\")\n",
    "recall = recall_score(y_test, y_test_preds, average=\"weighted\")\n",
    "f1 = f1_score(y_test, y_test_preds, average=\"weighted\")\n",
    "pr_auc = average_precision_score(\n",
    "    y_test, y_test_probs[:, 1], average=\"weighted\"\n",
    ")  # PR AUC"
   ]
  },
  {
   "cell_type": "code",
   "execution_count": 15,
   "metadata": {},
   "outputs": [],
   "source": [
    "# Log metrics to Neptune\n",
    "run[\"accuracy\"] = accuracy\n",
    "run[\"roc_auc\"] = roc_auc\n",
    "run[\"precision\"] = precision\n",
    "run[\"recall\"] = recall\n",
    "run[\"f1\"] = f1\n",
    "run[\"pr_auc\"] = pr_auc"
   ]
  },
  {
   "cell_type": "code",
   "execution_count": 16,
   "metadata": {},
   "outputs": [
    {
     "name": "stdout",
     "output_type": "stream",
     "text": [
      "[neptune] [info   ] Shutting down background jobs, please wait a moment...\n",
      "[neptune] [info   ] Done!\n",
      "[neptune] [info   ] Waiting for the remaining 6 operations to synchronize with Neptune. Do not kill this process.\n",
      "[neptune] [info   ] All 6 operations synced, thanks for waiting!\n",
      "[neptune] [info   ] Explore the metadata in the Neptune app: https://app.neptune.ai/community/evaluation-metrics-comparison/e/EV-2/metadata\n"
     ]
    }
   ],
   "source": [
    "run.stop()"
   ]
  }
 ],
 "metadata": {
  "kernelspec": {
   "display_name": "neptune",
   "language": "python",
   "name": "python3"
  },
  "language_info": {
   "codemirror_mode": {
    "name": "ipython",
    "version": 3
   },
   "file_extension": ".py",
   "mimetype": "text/x-python",
   "name": "python",
   "nbconvert_exporter": "python",
   "pygments_lexer": "ipython3",
   "version": "3.9.19"
  }
 },
 "nbformat": 4,
 "nbformat_minor": 2
}
